{
 "cells": [
  {
   "cell_type": "code",
   "execution_count": 1,
   "id": "c0c89fc6",
   "metadata": {},
   "outputs": [],
   "source": [
    "from bs4 import BeautifulSoup\n",
    "from fpdf import FPDF\n",
    "import requests\n",
    "from docx import Document\n",
    "import urllib.request"
   ]
  },
  {
   "cell_type": "code",
   "execution_count": 2,
   "id": "5411e6de",
   "metadata": {},
   "outputs": [],
   "source": [
    "def heading_filter(heading):\n",
    "    limit=[\":\",\"?\",\"/\",\"*\",\"<\",\">\",\"|\"]\n",
    "    filtre=heading\n",
    "    for i in limit:\n",
    "           filtre=filtre.replace(i,'')\n",
    "           \n",
    "    return filtre"
   ]
  },
  {
   "cell_type": "code",
   "execution_count": null,
   "id": "d939081d",
   "metadata": {},
   "outputs": [],
   "source": []
  },
  {
   "cell_type": "code",
   "execution_count": 3,
   "id": "3ed67f49",
   "metadata": {},
   "outputs": [],
   "source": [
    "def each_news(url):\n",
    "    \n",
    "    document = Document()\n",
    "    \n",
    "    new_html_text=requests.get(url).text\n",
    "    soup=BeautifulSoup(new_html_text,'lxml')\n",
    "    new_table=soup.find('div',attrs={\"class\":\"detail-content\"})\n",
    "    heading=new_table.find('h1').text\n",
    "    heading=heading_filter(heading)\n",
    "    img=new_table.find('img')\n",
    "    img=img['src']\n",
    "    print(img)\n",
    "    \n",
    "    print(heading)\n",
    "    sub_head=new_table.find('h2').text\n",
    "    print(sub_head)\n",
    "    new_t=new_table.find_all('p')\n",
    "    \n",
    "    paragraph = document.add_paragraph(sub_head)\n",
    "    paragraph = document.add_paragraph(heading) \n",
    "    paragraph = document.add_paragraph(img)\n",
    "    for x in new_t:\n",
    "        document.add_paragraph(x.text)\n",
    "    document.save(f'{heading}.docx')\n",
    "    "
   ]
  },
  {
   "cell_type": "code",
   "execution_count": 4,
   "id": "8e554122",
   "metadata": {},
   "outputs": [],
   "source": [
    "url='https://www.thenews.com.pk/latest/category/national'"
   ]
  },
  {
   "cell_type": "code",
   "execution_count": 5,
   "id": "b783e464",
   "metadata": {},
   "outputs": [],
   "source": [
    "html_text=requests.get(url).text"
   ]
  },
  {
   "cell_type": "code",
   "execution_count": 6,
   "id": "a5bfc2bb",
   "metadata": {},
   "outputs": [],
   "source": [
    "soup=BeautifulSoup(html_text,'lxml')"
   ]
  },
  {
   "cell_type": "code",
   "execution_count": 7,
   "id": "c06aba7c",
   "metadata": {},
   "outputs": [],
   "source": [
    "table = soup.find('div',attrs={\"class\":\"detail-center\"})"
   ]
  },
  {
   "cell_type": "code",
   "execution_count": 8,
   "id": "98d84768",
   "metadata": {},
   "outputs": [],
   "source": [
    "t=table.find_all('li') "
   ]
  },
  {
   "cell_type": "code",
   "execution_count": null,
   "id": "4f0a02d8",
   "metadata": {},
   "outputs": [],
   "source": []
  },
  {
   "cell_type": "code",
   "execution_count": 10,
   "id": "2d67d7a8",
   "metadata": {},
   "outputs": [
    {
     "name": "stdout",
     "output_type": "stream",
     "text": [
      "https://www.thenews.com.pk/assets/uploads/updates/2022-08-15/982488_3671620_nawazjpg_updates.jpeg\n",
      "Nawaz Sharif to return to Pakistan next month, claims PML-N\n",
      "\"The nation has announced its decision that Nawaz Sharif should come back,\" says PML-N leader Javed Latif\n",
      "https://www.thenews.com.pk/assets/uploads/updates/2022-08-15/982474_7010831_MukeshAmbani2_updates.jpg\n",
      "Who threatened India’s richest man Mukesh Ambani\n",
      "A caller made 3-4 threats call from a landline number at the Reliance Foundation Hospital in Mumbai\n",
      "https://www.thenews.com.pk/assets/uploads/updates/2022-08-15/982436_3862102_Gillcourt6_updates.jpg\n",
      "Shahbaz Gill moves IHC against sedition case \n",
      "Shahbaz Gill says that the case registered against him is based on malice \n",
      "https://www.thenews.com.pk/assets/uploads/updates/2022-08-15/982463_7779863_Untitled-1_updates.jpg\n",
      "Karachi weather update City expected to receive more heavy rains from Aug 16-18\n",
      "Moderate showers are expected in Karachi today, forecasts chief meteorologist \n",
      "https://www.thenews.com.pk/assets/front/images/facebook.svg\n",
      "VIDEO Miftah Ismail’s bold statement in support of minorities hailed widely\n",
      "It is rare for a Pakistani politician to openly talk about the plight of minorities in Pakistan, including Ahmadis, says Uzair Younus\n",
      "https://www.thenews.com.pk/assets/uploads/updates/2022-08-15/982433_9877933_PM_MBS_updates.jpg\n",
      "PM Shahbaz thanks Crown Prince Salman for Saudi economic support\n",
      "IMF and Riyadh have also discussed the possibility of Islamabad being able to borrow up to $2.8bn against Riyadh’s quota of SDRs\n",
      "https://www.thenews.com.pk/assets/uploads/updates/2022-08-14/982303_3228016_duhhec_updates.jpg\n",
      "World leaders, foreign dignitaries wish Pakistan on 75 years of Independence\n",
      "Wishes poured in from around the world on pakistan's diamond jubilee\n",
      "https://www.thenews.com.pk/assets/uploads/updates/2022-08-14/982302_8794319_hcedgc_updates.jpg\n",
      "Karachi residents protest by cutting Independence Day cake on broken bridge\n",
      "Youngsters from Karachi's Landhi neighbourhood can be seen taking a jibe at the Sindh government\n",
      "https://www.thenews.com.pk/assets/uploads/updates/2022-08-14/982295_7818909_husd_updates.jpg\n",
      "Malala Yousafzai asks Pakistanis to stand for dignity of every person on Independence Day\n",
      "Malala Yousafzai wishes nation a Happy Independence Day with a quote of Quaid-e-Azam\n",
      "https://www.thenews.com.pk/assets/uploads/updates/2022-08-14/982284_6602310_Untitled-4_updates.jpg\n",
      "35 injured in jubilant firing on Independence Day in Karachi\n",
      "Police have arrested a suspect involved in aerial firing in Eidgah ground area and seized weapons from his possession\n",
      "https://www.thenews.com.pk/assets/uploads/updates/2022-08-14/982281_7002187_Anthem_updates.jpg\n",
      "Pakistan releases re-recorded national anthem on diamond jubilee of independence\n",
      "National anthem has been sung by 155 singers, with participation of 48 musicians and 6 bandmasters, after 68 years since it was first recorded\n",
      "https://www.thenews.com.pk/assets/uploads/updates/2022-08-14/982266_8108000_Untitled-4_updates.jpg\n",
      "Four soldiers martyred in separate attacks in KP, Balochistan\n",
      "“[The] Pakistan Army is determined to eliminate the menace of terrorism and such sacrifices of our brave soldiers will not go unpunished,” says ISPR \n",
      "https://www.thenews.com.pk/assets/uploads/updates/2022-08-14/982253_9728523_Independence_updates.jpg\n",
      "Nation celebrates 75th Independence Day\n",
      "Day dawned with a 31-one gun salute in federal capital and 21-one gun salute in provincial headquarters\n",
      "https://www.thenews.com.pk/assets/uploads/updates/2022-08-13/982045_726416_imran-khan-lahore-address_updates.jpg\n",
      "Imran Khan says fight for real freedom in 'final phase', announces country-wide rallies\n",
      "PTI chairman decides to \"go to the people\"; announces plans to hold rallies in Karachi, Sukkur, Hyderabad, Islamabad and other cities\n",
      "https://www.thenews.com.pk/assets/uploads/updates/2022-08-13/982078_2298258_gbheded_updates.jpg\n",
      "In address to nation, PM Shehbaz calls for economic independence\n",
      "On eve of Independence Day, PM Shehbaz Sharif says nation needs to revive passion that led to creation of Pakistan\n",
      "https://www.thenews.com.pk/assets/uploads/updates/2022-08-13/981975_1498291_Gillcourt5_updates.jpg\n",
      "IHC moved against rejection of extension in Shahbaz Gill’s remand\n",
      "Islamabad Advocate General Jahangir Jadoon pleads with IHC to extend physical remand of PTI leader\n",
      "https://www.thenews.com.pk/assets/uploads/updates/2022-08-13/981954_4106413_Untitled-1_updates.jpg\n",
      "Shahbaz Gill should not have made ‘objectionable’ remarks Imran Khan\n",
      "Imran Khan says there was an objectionable sentence in Gill's statement\n",
      "https://www.thenews.com.pk/assets/uploads/updates/2022-08-13/981947_3677712_ImranKhannew_updates.jpg\n",
      "FIA asks Imran Khan to share record of funding to PTI\n",
      "FIA also seeks list of PTI office-bearers who are allowed to operate party's bank accounts\n",
      "https://www.thenews.com.pk/assets/uploads/updates/2022-08-13/981944_1543994_depression_updates.jpg\n",
      "PMD's cyclone warning centre issues fresh alert Depression 450km away from Karachi\n",
      "Currently none of Pakistan's coastal area is under any threat from this weather system, says PMD Tropical Cyclone Warning Centre\n",
      "https://www.thenews.com.pk/assets/uploads/updates/2022-08-13/981938_1702395_Ataullah-Tararraid_updates.jpg\n",
      "Police raid PM’s aide Attaullah Tarar’s house in Lahore\n",
      "What do you want to prove by sending police to a house where I lived 15 years ago? asks Tarar\n",
      "https://www.thenews.com.pk/assets/uploads/updates/2022-08-12/981785_4415127_HUHDWG_updates.jpg\n",
      "PPP withdraws candidate in favour of MQM for NA-245 by-poll\n",
      "PPP candidate Danish Khan fully supports the PPP leadership's decision\n",
      "https://www.thenews.com.pk/assets/uploads/updates/2022-08-12/981783_6717251_r_updates.jpg\n",
      "Rana Sanaullah stops police from raiding Bani Gala, arresting Shahbaz Gill's driver\n",
      "Interior Minister Rana Sanaullah also expresses his displeasure over the arrest of the driver's wife \n",
      "https://www.thenews.com.pk/assets/uploads/updates/2022-08-12/981778_3457788_HUWYGDEED_updates.jpg\n",
      "CM Murad orders police to clear Karachi of street criminals\n",
      "IGP briefed CM about special measures taken to curb street crime, improvement in recovery of stolen items\n",
      "https://www.thenews.com.pk/assets/uploads/updates/2022-08-12/981763_3593089_uhdcbcd_updates.jpg\n",
      "Here's how much your August and September K-Electric bills will increase\n",
      "NEPRA has divided per units costs between peak and off peak hours for two months\n",
      "https://www.thenews.com.pk/assets/uploads/updates/2022-08-12/981728_5779694_jfegefgf_updates.jpg\n",
      "Bridge atop stream swept away near Karakoram Highway due to flood\n",
      "Minister for Climate Change Senator Sherry Rehman asks district commissioners to “remain vigilant”\n",
      "https://www.thenews.com.pk/assets/uploads/updates/2022-08-12/981708_195795_arif-alvi_updates.jpg\n",
      "Army should not be made controversial President Arif Alvi\n",
      "The president stresses the armed forces are responsible for the country's security\n",
      "\n"
     ]
    }
   ],
   "source": [
    "\n",
    "for i in t:\n",
    "    s=i.find('a').get('href')\n",
    "    each_news(s)"
   ]
  },
  {
   "cell_type": "code",
   "execution_count": null,
   "id": "8bd3d35a",
   "metadata": {},
   "outputs": [],
   "source": []
  },
  {
   "cell_type": "code",
   "execution_count": null,
   "id": "b60b2d00",
   "metadata": {},
   "outputs": [],
   "source": []
  },
  {
   "cell_type": "code",
   "execution_count": null,
   "id": "455e79ef",
   "metadata": {},
   "outputs": [],
   "source": []
  },
  {
   "cell_type": "code",
   "execution_count": null,
   "id": "d25eb5e6",
   "metadata": {},
   "outputs": [],
   "source": []
  }
 ],
 "metadata": {
  "kernelspec": {
   "display_name": "Python 3 (ipykernel)",
   "language": "python",
   "name": "python3"
  },
  "language_info": {
   "codemirror_mode": {
    "name": "ipython",
    "version": 3
   },
   "file_extension": ".py",
   "mimetype": "text/x-python",
   "name": "python",
   "nbconvert_exporter": "python",
   "pygments_lexer": "ipython3",
   "version": "3.9.12"
  }
 },
 "nbformat": 4,
 "nbformat_minor": 5
}
